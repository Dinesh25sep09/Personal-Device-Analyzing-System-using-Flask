{
 "cells": [
  {
   "cell_type": "code",
   "execution_count": 1,
   "metadata": {},
   "outputs": [],
   "source": [
    "import pickle"
   ]
  },
  {
   "cell_type": "code",
   "execution_count": 2,
   "metadata": {},
   "outputs": [],
   "source": [
    "m1=\"module.pickle\"\n",
    "s=pickle.load(open(m1,\"rb\"))"
   ]
  },
  {
   "cell_type": "code",
   "execution_count": 3,
   "metadata": {},
   "outputs": [
    {
     "name": "stdout",
     "output_type": "stream",
     "text": [
      "enter your 1:772\n",
      "enter your 2:0\n",
      "enter your 3:1.1\n",
      "enter your 4:1\n",
      "enter your 5:12\n",
      "enter your 6:0\n",
      "enter your 7:39\n",
      "enter your 8:0.8\n",
      "enter your 9:81\n",
      "enter your 10:7\n",
      "enter your 11:14\n",
      "enter your 12:1314\n",
      "enter your 13:1854\n",
      "enter your 14:2819\n",
      "enter your 15:17\n",
      "enter your 16:15\n",
      "enter your 17:3\n",
      "enter your 18:1\n",
      "enter your 19:1\n",
      "enter your 20:0\n"
     ]
    }
   ],
   "source": [
    "aa=int(input(\"enter your 1:\"))\n",
    "ab=int(input(\"enter your 2:\"))\n",
    "ac=float(input(\"enter your 3:\"))\n",
    "ad=int(input(\"enter your 4:\"))\n",
    "ae=int(input(\"enter your 5:\"))\n",
    "af=int(input(\"enter your 6:\"))\n",
    "ag=int(input(\"enter your 7:\"))\n",
    "ah=float(input(\"enter your 8:\"))\n",
    "ai=int(input(\"enter your 9:\"))\n",
    "aj=int(input(\"enter your 10:\"))\n",
    "ak=int(input(\"enter your 11:\"))\n",
    "al=int(input(\"enter your 12:\"))\n",
    "am=int(input(\"enter your 13:\"))\n",
    "an=int(input(\"enter your 14:\"))\n",
    "ao=int(input(\"enter your 15:\"))\n",
    "ap=int(input(\"enter your 16:\"))\n",
    "aq=int(input(\"enter your 17:\"))\n",
    "ar=int(input(\"enter your 18:\"))\n",
    "arr=int(input(\"enter your 19:\"))\n",
    "at=int(input(\"enter your 20:\"))\n"
   ]
  },
  {
   "cell_type": "code",
   "execution_count": 4,
   "metadata": {},
   "outputs": [
    {
     "name": "stdout",
     "output_type": "stream",
     "text": [
      "very high\n"
     ]
    }
   ],
   "source": [
    "d=s.predict([[aa,ab,ac,ad,ae,af,ag,ah,ai,aj,ak,al,am,an,ao,ap,aq,ar,arr,at]])\n",
    "if d[0]==0:\n",
    "    print(\"very low\")\n",
    "if d[0]==1:\n",
    "    print(\"low\")\n",
    "if d[0]==2:\n",
    "    print(\"moderate\")\n",
    "else:\n",
    "    print(\"very high\")"
   ]
  },
  {
   "cell_type": "code",
   "execution_count": null,
   "metadata": {},
   "outputs": [],
   "source": [
    "772,0,1.1,1,12,0,39,0.8,81,7,14,1314,1854,2819,17,15,3,1,1,0,3"
   ]
  },
  {
   "cell_type": "code",
   "execution_count": null,
   "metadata": {},
   "outputs": [],
   "source": []
  }
 ],
 "metadata": {
  "kernelspec": {
   "display_name": "Python 3",
   "language": "python",
   "name": "python3"
  },
  "language_info": {
   "codemirror_mode": {
    "name": "ipython",
    "version": 3
   },
   "file_extension": ".py",
   "mimetype": "text/x-python",
   "name": "python",
   "nbconvert_exporter": "python",
   "pygments_lexer": "ipython3",
   "version": "3.7.6"
  }
 },
 "nbformat": 4,
 "nbformat_minor": 2
}
